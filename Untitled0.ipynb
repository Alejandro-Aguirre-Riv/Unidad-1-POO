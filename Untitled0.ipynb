{
  "nbformat": 4,
  "nbformat_minor": 0,
  "metadata": {
    "colab": {
      "provenance": [],
      "toc_visible": true,
      "authorship_tag": "ABX9TyOvgt4Emnu/1brcKEY7gOSb",
      "include_colab_link": true
    },
    "kernelspec": {
      "name": "python3",
      "display_name": "Python 3"
    },
    "language_info": {
      "name": "python"
    }
  },
  "cells": [
    {
      "cell_type": "markdown",
      "metadata": {
        "id": "view-in-github",
        "colab_type": "text"
      },
      "source": [
        "<a href=\"https://colab.research.google.com/github/Alejandro-Aguirre-Riv/Unidad-1-POO/blob/main/Untitled0.ipynb\" target=\"_parent\"><img src=\"https://colab.research.google.com/assets/colab-badge.svg\" alt=\"Open In Colab\"/></a>"
      ]
    },
    {
      "cell_type": "code",
      "execution_count": 2,
      "metadata": {
        "colab": {
          "base_uri": "https://localhost:8080/"
        },
        "id": "qMbk9k4GmXuw",
        "outputId": "399b22ae-afee-40f3-8033-41350a317e78"
      },
      "outputs": [
        {
          "output_type": "stream",
          "name": "stdout",
          "text": [
            "b es mayor que a\n",
            "b vale : 1000\n",
            "fin del if\n"
          ]
        }
      ],
      "source": [
        "a = 600\n",
        "b = 1000\n",
        "if b > a:\n",
        "    print(\"b es mayor que a\")\n",
        "    print(\"b vale :\",b)\n",
        "elif a==b:\n",
        "    print(\"b es igual que a\")\n",
        "    print(\"b y a valen: \",a)\n",
        "else:\n",
        "    print(\"a es mayor que b\")\n",
        "    print(\"a vale :\",a)\n",
        "print(\"fin del if\")"
      ]
    },
    {
      "cell_type": "markdown",
      "source": [],
      "metadata": {
        "id": "pzPJOGk4mfzI"
      }
    },
    {
      "cell_type": "code",
      "source": [
        "#\n",
        "x = 50\n",
        "y = 60\n",
        "print(\"x es mayor que y\") if (x > y) else print(\"y es mayor que x\")"
      ],
      "metadata": {
        "colab": {
          "base_uri": "https://localhost:8080/"
        },
        "id": "xiHQGMf5oQL-",
        "outputId": "cba1b225-87c6-4da7-f1d4-b7084a7cbf08"
      },
      "execution_count": 3,
      "outputs": [
        {
          "output_type": "stream",
          "name": "stdout",
          "text": [
            "y es mayor que x\n"
          ]
        }
      ]
    },
    {
      "cell_type": "code",
      "source": [
        "i = 1\n",
        "while i <= 5:\n",
        "    print(i)\n",
        "    i += 1\n",
        "print(\"fuera del while\")"
      ],
      "metadata": {
        "colab": {
          "base_uri": "https://localhost:8080/"
        },
        "id": "pQhkp0NIpHaL",
        "outputId": "be930c41-6981-4887-9139-6580cc758a7f"
      },
      "execution_count": 5,
      "outputs": [
        {
          "output_type": "stream",
          "name": "stdout",
          "text": [
            "1\n",
            "2\n",
            "3\n",
            "4\n",
            "5\n",
            "fuera del while\n"
          ]
        }
      ]
    },
    {
      "cell_type": "code",
      "source": [
        "i = 1\n",
        "while 1 <= 1000:\n",
        "    print(i)\n",
        "    if i == 10:\n",
        "        print(\"entro al if\")\n",
        "        break\n",
        "    i += 1\n",
        "print(\"fuera del while\")"
      ],
      "metadata": {
        "colab": {
          "base_uri": "https://localhost:8080/"
        },
        "id": "ZI4m1jhfqQGY",
        "outputId": "9acd66e4-2ff2-4e37-b031-b4ea8080f446"
      },
      "execution_count": 7,
      "outputs": [
        {
          "output_type": "stream",
          "name": "stdout",
          "text": [
            "1\n",
            "2\n",
            "3\n",
            "4\n",
            "5\n",
            "6\n",
            "7\n",
            "8\n",
            "9\n",
            "10\n",
            "entro al if\n",
            "fuera del while\n"
          ]
        }
      ]
    },
    {
      "cell_type": "code",
      "source": [
        "while(True):\n",
        "    print(\"\"\"selecciona una opcion\n",
        "    1) opcion 1\n",
        "    2) opcion 2\n",
        "    3) Salir\"\"\")\n",
        "    opcion = input(\"¿Cual es la opcion que deseas?  \")\n",
        "    if opcion =='1' :\n",
        "        print(\"seleccionaste la opcion 1 \\n\")\n",
        "    elif opcion =='2' :\n",
        "        print(\"seleccionaste la opcion 2 \\n\")\n",
        "    elif opcion =='3' :\n",
        "        print(\"seleccionaste la opcion salir \\n\")\n",
        "        break\n",
        "    else:\n",
        "        print(\"opcion desconocida, vuelve a intentarlo\")\n",
        "print(\"fuera de ciclo\")\n",
        ""
      ],
      "metadata": {
        "colab": {
          "base_uri": "https://localhost:8080/"
        },
        "id": "Ofl8TF4srJvu",
        "outputId": "11f37bfa-4e51-4b0c-d0ed-1e38544ed6cb"
      },
      "execution_count": 10,
      "outputs": [
        {
          "output_type": "stream",
          "name": "stdout",
          "text": [
            "selecciona una opcion\n",
            "    1) opcion 1\n",
            "    2) opcion 2\n",
            "    3) Salir\n",
            "¿Cual es la opcion que deseas?  3\n",
            "seleccionaste la opcion salir \n",
            "\n",
            "fuera de ciclo\n"
          ]
        }
      ]
    }
  ]
}